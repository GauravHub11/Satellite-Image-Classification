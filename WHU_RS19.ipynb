{
 "cells": [
  {
   "cell_type": "code",
   "execution_count": 1,
   "metadata": {},
   "outputs": [
    {
     "name": "stderr",
     "output_type": "stream",
     "text": [
      "Using TensorFlow backend.\n"
     ]
    }
   ],
   "source": [
    "import keras                         #Important Imports\n",
    "from keras.applications.vgg16 import VGG16\n",
    "from keras.layers import Input,Lambda,Dense,Flatten\n",
    "from keras.models import Model\n",
    "from keras.applications.vgg16 import preprocess_input\n",
    "from keras.preprocessing import image\n",
    "from keras.preprocessing.image import ImageDataGenerator\n",
    "from keras.models import Sequential\n",
    "import numpy as np\n",
    "import glob as glob\n",
    "import matplotlib.pyplot as plt\n"
   ]
  },
  {
   "cell_type": "code",
   "execution_count": 2,
   "metadata": {
    "scrolled": true
   },
   "outputs": [
    {
     "name": "stdout",
     "output_type": "stream",
     "text": [
      "WARNING:tensorflow:From /home/gaurav/anaconda3/envs/myenv/lib/python3.7/site-packages/keras/backend/tensorflow_backend.py:74: The name tf.get_default_graph is deprecated. Please use tf.compat.v1.get_default_graph instead.\n",
      "\n",
      "WARNING:tensorflow:From /home/gaurav/anaconda3/envs/myenv/lib/python3.7/site-packages/keras/backend/tensorflow_backend.py:517: The name tf.placeholder is deprecated. Please use tf.compat.v1.placeholder instead.\n",
      "\n",
      "WARNING:tensorflow:From /home/gaurav/anaconda3/envs/myenv/lib/python3.7/site-packages/keras/backend/tensorflow_backend.py:4138: The name tf.random_uniform is deprecated. Please use tf.random.uniform instead.\n",
      "\n",
      "WARNING:tensorflow:From /home/gaurav/anaconda3/envs/myenv/lib/python3.7/site-packages/keras/backend/tensorflow_backend.py:3976: The name tf.nn.max_pool is deprecated. Please use tf.nn.max_pool2d instead.\n",
      "\n",
      "WARNING:tensorflow:From /home/gaurav/anaconda3/envs/myenv/lib/python3.7/site-packages/keras/backend/tensorflow_backend.py:174: The name tf.get_default_session is deprecated. Please use tf.compat.v1.get_default_session instead.\n",
      "\n",
      "WARNING:tensorflow:From /home/gaurav/anaconda3/envs/myenv/lib/python3.7/site-packages/keras/backend/tensorflow_backend.py:181: The name tf.ConfigProto is deprecated. Please use tf.compat.v1.ConfigProto instead.\n",
      "\n",
      "WARNING:tensorflow:From /home/gaurav/anaconda3/envs/myenv/lib/python3.7/site-packages/keras/backend/tensorflow_backend.py:186: The name tf.Session is deprecated. Please use tf.compat.v1.Session instead.\n",
      "\n",
      "WARNING:tensorflow:From /home/gaurav/anaconda3/envs/myenv/lib/python3.7/site-packages/keras/backend/tensorflow_backend.py:190: The name tf.global_variables is deprecated. Please use tf.compat.v1.global_variables instead.\n",
      "\n",
      "WARNING:tensorflow:From /home/gaurav/anaconda3/envs/myenv/lib/python3.7/site-packages/keras/backend/tensorflow_backend.py:199: The name tf.is_variable_initialized is deprecated. Please use tf.compat.v1.is_variable_initialized instead.\n",
      "\n",
      "WARNING:tensorflow:From /home/gaurav/anaconda3/envs/myenv/lib/python3.7/site-packages/keras/backend/tensorflow_backend.py:206: The name tf.variables_initializer is deprecated. Please use tf.compat.v1.variables_initializer instead.\n",
      "\n"
     ]
    }
   ],
   "source": [
    "image_size=224   #resize image to this \n",
    "vgg=VGG16(weights='imagenet',include_top=False,input_shape=(image_size,image_size,3))  #add preprocessing layer\n",
    "#vgg.summary()\n",
    "\n"
   ]
  },
  {
   "cell_type": "code",
   "execution_count": 3,
   "metadata": {},
   "outputs": [],
   "source": [
    "for layer in vgg.layers[:-1]:             # freeze all layer except last layer (ie 5th pooling layer)\n",
    "    layer.trainable=False\n",
    "#vgg.summary()\n",
    "    \n"
   ]
  },
  {
   "cell_type": "code",
   "execution_count": 4,
   "metadata": {},
   "outputs": [],
   "source": [
    "#for layer in model.layers:                #layer trainable observation\n",
    "    #print(layer,layer.trainable)"
   ]
  },
  {
   "cell_type": "code",
   "execution_count": 5,
   "metadata": {},
   "outputs": [],
   "source": [
    "train_path='/home/gaurav/Downloads/data/train'\n",
    "valid_path='/home/gaurav/Downloads/data/val'                    # path to train and test data "
   ]
  },
  {
   "cell_type": "code",
   "execution_count": 6,
   "metadata": {},
   "outputs": [],
   "source": [
    "folders=glob.glob(\"/home/gaurav/Downloads/data/train/*\")    #useful for getting no of classes"
   ]
  },
  {
   "cell_type": "code",
   "execution_count": 7,
   "metadata": {},
   "outputs": [],
   "source": [
    "x=Flatten()(vgg.output)\n",
    "prediction=Dense(len(folders),activation='softmax')(x)    # no of classes=19 ie 19 softmax layer"
   ]
  },
  {
   "cell_type": "code",
   "execution_count": 8,
   "metadata": {},
   "outputs": [
    {
     "name": "stdout",
     "output_type": "stream",
     "text": [
      "_________________________________________________________________\n",
      "Layer (type)                 Output Shape              Param #   \n",
      "=================================================================\n",
      "input_1 (InputLayer)         (None, 224, 224, 3)       0         \n",
      "_________________________________________________________________\n",
      "block1_conv1 (Conv2D)        (None, 224, 224, 64)      1792      \n",
      "_________________________________________________________________\n",
      "block1_conv2 (Conv2D)        (None, 224, 224, 64)      36928     \n",
      "_________________________________________________________________\n",
      "block1_pool (MaxPooling2D)   (None, 112, 112, 64)      0         \n",
      "_________________________________________________________________\n",
      "block2_conv1 (Conv2D)        (None, 112, 112, 128)     73856     \n",
      "_________________________________________________________________\n",
      "block2_conv2 (Conv2D)        (None, 112, 112, 128)     147584    \n",
      "_________________________________________________________________\n",
      "block2_pool (MaxPooling2D)   (None, 56, 56, 128)       0         \n",
      "_________________________________________________________________\n",
      "block3_conv1 (Conv2D)        (None, 56, 56, 256)       295168    \n",
      "_________________________________________________________________\n",
      "block3_conv2 (Conv2D)        (None, 56, 56, 256)       590080    \n",
      "_________________________________________________________________\n",
      "block3_conv3 (Conv2D)        (None, 56, 56, 256)       590080    \n",
      "_________________________________________________________________\n",
      "block3_pool (MaxPooling2D)   (None, 28, 28, 256)       0         \n",
      "_________________________________________________________________\n",
      "block4_conv1 (Conv2D)        (None, 28, 28, 512)       1180160   \n",
      "_________________________________________________________________\n",
      "block4_conv2 (Conv2D)        (None, 28, 28, 512)       2359808   \n",
      "_________________________________________________________________\n",
      "block4_conv3 (Conv2D)        (None, 28, 28, 512)       2359808   \n",
      "_________________________________________________________________\n",
      "block4_pool (MaxPooling2D)   (None, 14, 14, 512)       0         \n",
      "_________________________________________________________________\n",
      "block5_conv1 (Conv2D)        (None, 14, 14, 512)       2359808   \n",
      "_________________________________________________________________\n",
      "block5_conv2 (Conv2D)        (None, 14, 14, 512)       2359808   \n",
      "_________________________________________________________________\n",
      "block5_conv3 (Conv2D)        (None, 14, 14, 512)       2359808   \n",
      "_________________________________________________________________\n",
      "block5_pool (MaxPooling2D)   (None, 7, 7, 512)         0         \n",
      "_________________________________________________________________\n",
      "flatten_1 (Flatten)          (None, 25088)             0         \n",
      "_________________________________________________________________\n",
      "dense_1 (Dense)              (None, 19)                476691    \n",
      "=================================================================\n",
      "Total params: 15,191,379\n",
      "Trainable params: 476,691\n",
      "Non-trainable params: 14,714,688\n",
      "_________________________________________________________________\n"
     ]
    }
   ],
   "source": [
    "model=Model(inputs=vgg.input,outputs=prediction)   #model object\n",
    "model.summary()          # model summary "
   ]
  },
  {
   "cell_type": "code",
   "execution_count": 9,
   "metadata": {},
   "outputs": [
    {
     "name": "stdout",
     "output_type": "stream",
     "text": [
      "WARNING:tensorflow:From /home/gaurav/anaconda3/envs/myenv/lib/python3.7/site-packages/keras/optimizers.py:790: The name tf.train.Optimizer is deprecated. Please use tf.compat.v1.train.Optimizer instead.\n",
      "\n",
      "WARNING:tensorflow:From /home/gaurav/anaconda3/envs/myenv/lib/python3.7/site-packages/keras/backend/tensorflow_backend.py:3295: The name tf.log is deprecated. Please use tf.math.log instead.\n",
      "\n"
     ]
    }
   ],
   "source": [
    "#cost and optimization method\n",
    "model.compile(\n",
    "  loss='categorical_crossentropy',\n",
    "  optimizer='adam',\n",
    "  metrics=['accuracy']\n",
    ")\n",
    "categories=['Airport','Beach','Bridge','Commercial','Desert','Farmland','footballField','Forest','Indusrial','Meadow','Mountain','Park','Parking','Pond','Port','railwayStation','Resedential','River','Viaduct']\n"
   ]
  },
  {
   "cell_type": "code",
   "execution_count": 10,
   "metadata": {},
   "outputs": [
    {
     "name": "stdout",
     "output_type": "stream",
     "text": [
      "Found 795 images belonging to 19 classes.\n",
      "Found 210 images belonging to 19 classes.\n"
     ]
    }
   ],
   "source": [
    "from keras.preprocessing.image import ImageDataGenerator\n",
    "\n",
    "train_datagen= ImageDataGenerator(rescale=1./255, \n",
    "                                  shear_range=0.2,\n",
    "                                  zoom_range=0.2,\n",
    "                                  horizontal_flip=True,\n",
    "                                  rotation_range=30,\n",
    "                                  width_shift_range=0.2,\n",
    "                                 height_shift_range=0.2,\n",
    "                                 \n",
    "                                )\n",
    "\n",
    "test_datagen= ImageDataGenerator(rescale=1./255)\n",
    "\n",
    "\n",
    "training_set= train_datagen.flow_from_directory( '/home/gaurav/Downloads/data/train',\n",
    "                                                  target_size=(224,224),\n",
    "                                                  batch_size=32,\n",
    "                                                  class_mode='categorical'     \n",
    "                                                )\n",
    "test_set=test_datagen.flow_from_directory( '/home/gaurav/Downloads/data/val',\n",
    "                                            target_size=(224,224),\n",
    "                                            batch_size=32,\n",
    "                                            class_mode='categorical' \n",
    "                                        )\n"
   ]
  },
  {
   "cell_type": "code",
   "execution_count": 11,
   "metadata": {},
   "outputs": [
    {
     "name": "stdout",
     "output_type": "stream",
     "text": [
      "WARNING:tensorflow:From /home/gaurav/anaconda3/envs/myenv/lib/python3.7/site-packages/tensorflow_core/python/ops/math_grad.py:1424: where (from tensorflow.python.ops.array_ops) is deprecated and will be removed in a future version.\n",
      "Instructions for updating:\n",
      "Use tf.where in 2.0, which has the same broadcast rule as np.where\n",
      "WARNING:tensorflow:From /home/gaurav/anaconda3/envs/myenv/lib/python3.7/site-packages/keras/backend/tensorflow_backend.py:986: The name tf.assign_add is deprecated. Please use tf.compat.v1.assign_add instead.\n",
      "\n",
      "WARNING:tensorflow:From /home/gaurav/anaconda3/envs/myenv/lib/python3.7/site-packages/keras/backend/tensorflow_backend.py:973: The name tf.assign is deprecated. Please use tf.compat.v1.assign instead.\n",
      "\n",
      "Epoch 1/2\n",
      "25/25 [==============================] - 44s 2s/step - loss: 1.7171 - acc: 0.4693 - val_loss: 0.7952 - val_acc: 0.7143\n",
      "Epoch 2/2\n",
      "25/25 [==============================] - 25s 1s/step - loss: 0.6763 - acc: 0.7811 - val_loss: 0.5395 - val_acc: 0.7905\n"
     ]
    }
   ],
   "source": [
    "#fit the model \n",
    "\n",
    "r= model.fit_generator(\n",
    "                         training_set,\n",
    "                         validation_data=test_set,\n",
    "                         epochs=2,\n",
    "                         steps_per_epoch=len(training_set),\n",
    "                         validation_steps=len(test_set)      )\n"
   ]
  },
  {
   "cell_type": "code",
   "execution_count": 12,
   "metadata": {},
   "outputs": [
    {
     "data": {
      "image/png": "[encoded data removed]",
      "text/plain": [
       "<Figure size 432x288 with 1 Axes>"
      ]
     },
     "metadata": {
      "needs_background": "light"
     },
     "output_type": "display_data"
    },
    {
     "data": {
      "text/plain": [
       "<Figure size 432x288 with 0 Axes>"
      ]
     },
     "metadata": {},
     "output_type": "display_data"
    }
   ],
   "source": [
    "# loss\n",
    "plt.plot(r.history['loss'], label='train loss')\n",
    "plt.plot(r.history['val_loss'], label='val loss')\n",
    "plt.legend()\n",
    "plt.show()\n",
    "plt.savefig('train-val_acc')\n"
   ]
  },
  {
   "cell_type": "code",
   "execution_count": 13,
   "metadata": {},
   "outputs": [
    {
     "data": {
      "image/png": "[encoded data removed]",
      "text/plain": [
       "<Figure size 432x288 with 1 Axes>"
      ]
     },
     "metadata": {
      "needs_background": "light"
     },
     "output_type": "display_data"
    },
    {
     "data": {
      "text/plain": [
       "<Figure size 432x288 with 0 Axes>"
      ]
     },
     "metadata": {},
     "output_type": "display_data"
    }
   ],
   "source": [
    "# accuracies\n",
    "plt.plot(r.history['acc'], label='train acc')\n",
    "plt.plot(r.history['val_acc'], label='val acc')\n",
    "plt.legend()\n",
    "plt.show()\n",
    "plt.savefig('AccVal_acc')"
   ]
  },
  {
   "cell_type": "code",
   "execution_count": 19,
   "metadata": {},
   "outputs": [
    {
     "name": "stdout",
     "output_type": "stream",
     "text": [
      "10/10 [==============================] - 8s 781ms/step\n",
      "[[5.07195818e-06 9.11975920e-01 3.41206469e-05 ... 7.00791531e-07\n",
      "  2.06684888e-07 1.55349862e-05]\n",
      " [3.30465764e-01 3.80070378e-05 3.30415159e-03 ... 1.29329716e-03\n",
      "  9.12830606e-03 8.80814064e-03]\n",
      " [7.19031523e-05 3.35580444e-06 6.54095857e-07 ... 3.00801275e-07\n",
      "  1.24730525e-06 3.06119091e-06]\n",
      " ...\n",
      " [1.74447556e-03 1.32592786e-02 3.60016929e-05 ... 1.09879045e-04\n",
      "  2.04415232e-06 3.51798750e-04]\n",
      " [7.19031523e-05 3.35580444e-06 6.54095857e-07 ... 3.00801275e-07\n",
      "  1.24730525e-06 3.06119091e-06]\n",
      " [8.13588724e-02 3.32900777e-06 1.43262092e-03 ... 2.26045051e-03\n",
      "  4.89462048e-01 5.11682410e-05]]\n"
     ]
    }
   ],
   "source": [
    "#confusion Matrix\n",
    "\n",
    "test_set.reset()\n",
    "y_pred=model.predict_generator(test_set,steps=10,verbose=1)\n",
    "print(y_pred)"
   ]
  },
  {
   "cell_type": "code",
   "execution_count": null,
   "metadata": {},
   "outputs": [],
   "source": []
  },
  {
   "cell_type": "code",
   "execution_count": 21,
   "metadata": {},
   "outputs": [
    {
     "name": "stdout",
     "output_type": "stream",
     "text": [
      "[ 1  0 14 11 12  7  9 14 11  3  4  4  9 10 12 12  4  2 12  6  9  8  4 10\n",
      "  1 16  5 10  4 11  4 11 18 10 13 18  9  3  4  5 12 17  7  4 14 18 14 12\n",
      " 15 10  4  0  4 15  2 16 11 13 11 10 14 18 18  6  0 17 12  1  2  2 10 17\n",
      " 16  9  5  4 12 12 13 15 16  7 17  4  5  4 14  4  8 11  5  5 14 14  4  4\n",
      "  6  1 12 16  2 11 10 14  1  9 14  9  7 13  1 17 10 14  1  8  4 14  4  8\n",
      " 14  0  4  5 16 18  4  0 17  4  7 18  5 14  0  4 16 14 14 15 15  2  4 15\n",
      "  4 11  0 17 14 16 14  1  5 14  6 15  2 17 17  7  9  2 11 15 14 18  4 16\n",
      "  1 18 15 13 10  0 18  9 13 12 13 15 11 16 16  2 16  6 17 13  0  1 13 14\n",
      " 15  7  9 10 14 11 17 10 15 13 13 10  2  8 11 15  4  6  7 12 17 13 14  2\n",
      "  5  4  0  4 15  8  4 14  7 14  9  4 12 14 11 18  9 13  2 18 12 13  5  4\n",
      "  2 16 14 14 17 15  2  9 16  4 17  9 16 14  9 15  5 14  9 13  0 10  7 14\n",
      " 11 17 17 10 15 18 16  6  9 13 13  5 14  7 10  9 18  4  8 14 11 12  1 16\n",
      " 12  2  4  6  5  8 11 13 14  0 15  1  2 16 13 10 14 17]\n"
     ]
    }
   ],
   "source": [
    "predicted_class_indices=np.argmax(y_pred,axis=1)\n",
    "print(predicted_class_indices)"
   ]
  },
  {
   "cell_type": "code",
   "execution_count": 26,
   "metadata": {},
   "outputs": [
    {
     "name": "stdout",
     "output_type": "stream",
     "text": [
      "['Beach', 'Airport', 'Residential', 'Parking', 'Pond', 'Industrial', 'Mountain', 'Residential', 'Parking', 'Commercial', 'Desert', 'Desert', 'Mountain', 'Park', 'Pond', 'Pond', 'Desert', 'Bridge', 'Pond', 'Forest', 'Mountain', 'Meadow', 'Desert', 'Park', 'Beach', 'Viaduct', 'Farmland', 'Park', 'Desert', 'Parking', 'Desert', 'Parking', 'railwayStation', 'Park', 'Port', 'railwayStation', 'Mountain', 'Commercial', 'Desert', 'Farmland', 'Pond', 'footballField', 'Industrial', 'Desert', 'Residential', 'railwayStation', 'Residential', 'Pond', 'River', 'Park', 'Desert', 'Airport', 'Desert', 'River', 'Bridge', 'Viaduct', 'Parking', 'Port', 'Parking', 'Park', 'Residential', 'railwayStation', 'railwayStation', 'Forest', 'Airport', 'footballField', 'Pond', 'Beach', 'Bridge', 'Bridge', 'Park', 'footballField', 'Viaduct', 'Mountain', 'Farmland', 'Desert', 'Pond', 'Pond', 'Port', 'River', 'Viaduct', 'Industrial', 'footballField', 'Desert', 'Farmland', 'Desert', 'Residential', 'Desert', 'Meadow', 'Parking', 'Farmland', 'Farmland', 'Residential', 'Residential', 'Desert', 'Desert', 'Forest', 'Beach', 'Pond', 'Viaduct', 'Bridge', 'Parking', 'Park', 'Residential', 'Beach', 'Mountain', 'Residential', 'Mountain', 'Industrial', 'Port', 'Beach', 'footballField', 'Park', 'Residential', 'Beach', 'Meadow', 'Desert', 'Residential', 'Desert', 'Meadow', 'Residential', 'Airport', 'Desert', 'Farmland', 'Viaduct', 'railwayStation', 'Desert', 'Airport', 'footballField', 'Desert', 'Industrial', 'railwayStation', 'Farmland', 'Residential', 'Airport', 'Desert', 'Viaduct', 'Residential', 'Residential', 'River', 'River', 'Bridge', 'Desert', 'River', 'Desert', 'Parking', 'Airport', 'footballField', 'Residential', 'Viaduct', 'Residential', 'Beach', 'Farmland', 'Residential', 'Forest', 'River', 'Bridge', 'footballField', 'footballField', 'Industrial', 'Mountain', 'Bridge', 'Parking', 'River', 'Residential', 'railwayStation', 'Desert', 'Viaduct', 'Beach', 'railwayStation', 'River', 'Port', 'Park', 'Airport', 'railwayStation', 'Mountain', 'Port', 'Pond', 'Port', 'River', 'Parking', 'Viaduct', 'Viaduct', 'Bridge', 'Viaduct', 'Forest', 'footballField', 'Port', 'Airport', 'Beach', 'Port', 'Residential', 'River', 'Industrial', 'Mountain', 'Park', 'Residential', 'Parking', 'footballField', 'Park', 'River', 'Port', 'Port', 'Park', 'Bridge', 'Meadow', 'Parking', 'River', 'Desert', 'Forest', 'Industrial', 'Pond', 'footballField', 'Port', 'Residential', 'Bridge', 'Farmland', 'Desert', 'Airport', 'Desert', 'River', 'Meadow', 'Desert', 'Residential', 'Industrial', 'Residential', 'Mountain', 'Desert', 'Pond', 'Residential', 'Parking', 'railwayStation', 'Mountain', 'Port', 'Bridge', 'railwayStation', 'Pond', 'Port', 'Farmland', 'Desert', 'Bridge', 'Viaduct', 'Residential', 'Residential', 'footballField', 'River', 'Bridge', 'Mountain', 'Viaduct', 'Desert', 'footballField', 'Mountain', 'Viaduct', 'Residential', 'Mountain', 'River', 'Farmland', 'Residential', 'Mountain', 'Port', 'Airport', 'Park', 'Industrial', 'Residential', 'Parking', 'footballField', 'footballField', 'Park', 'River', 'railwayStation', 'Viaduct', 'Forest', 'Mountain', 'Port', 'Port', 'Farmland', 'Residential', 'Industrial', 'Park', 'Mountain', 'railwayStation', 'Desert', 'Meadow', 'Residential', 'Parking', 'Pond', 'Beach', 'Viaduct', 'Pond', 'Bridge', 'Desert', 'Forest', 'Farmland', 'Meadow', 'Parking', 'Port', 'Residential', 'Airport', 'River', 'Beach', 'Bridge', 'Viaduct', 'Port', 'Park', 'Residential', 'footballField']\n"
     ]
    }
   ],
   "source": [
    "labels = (training_set.class_indices)\n",
    "labels = dict((v,k) for k,v in labels.items())\n",
    "predictions = [labels[k] for k in predicted_class_indices]\n",
    "print(predictions)"
   ]
  },
  {
   "cell_type": "code",
   "execution_count": 30,
   "metadata": {},
   "outputs": [
    {
     "ename": "ValueError",
     "evalue": "Found input variables with inconsistent numbers of samples: [306, 7]",
     "output_type": "error",
     "traceback": [
      "\u001b[0;31m---------------------------------------------------------------------------\u001b[0m",
      "\u001b[0;31mValueError\u001b[0m                                Traceback (most recent call last)",
      "\u001b[0;32m<ipython-input-30-3e960da32b2e>\u001b[0m in \u001b[0;36m<module>\u001b[0;34m\u001b[0m\n\u001b[1;32m      1\u001b[0m \u001b[0;32mfrom\u001b[0m \u001b[0msklearn\u001b[0m\u001b[0;34m.\u001b[0m\u001b[0mmetrics\u001b[0m \u001b[0;32mimport\u001b[0m \u001b[0mclassification_report\u001b[0m\u001b[0;34m,\u001b[0m \u001b[0mconfusion_matrix\u001b[0m\u001b[0;34m\u001b[0m\u001b[0;34m\u001b[0m\u001b[0m\n\u001b[1;32m      2\u001b[0m \u001b[0mtest_set\u001b[0m\u001b[0;34m.\u001b[0m\u001b[0mreset\u001b[0m\u001b[0;34m(\u001b[0m\u001b[0;34m)\u001b[0m\u001b[0;34m\u001b[0m\u001b[0;34m\u001b[0m\u001b[0m\n\u001b[0;32m----> 3\u001b[0;31m \u001b[0mconfusion_matrix\u001b[0m\u001b[0;34m(\u001b[0m\u001b[0my_pred\u001b[0m\u001b[0;34m,\u001b[0m\u001b[0mtest_set\u001b[0m\u001b[0;34m)\u001b[0m\u001b[0;34m\u001b[0m\u001b[0;34m\u001b[0m\u001b[0m\n\u001b[0m",
      "\u001b[0;32m~/anaconda3/envs/myenv/lib/python3.7/site-packages/sklearn/metrics/_classification.py\u001b[0m in \u001b[0;36mconfusion_matrix\u001b[0;34m(y_true, y_pred, labels, sample_weight, normalize)\u001b[0m\n\u001b[1;32m    266\u001b[0m \u001b[0;34m\u001b[0m\u001b[0m\n\u001b[1;32m    267\u001b[0m     \"\"\"\n\u001b[0;32m--> 268\u001b[0;31m     \u001b[0my_type\u001b[0m\u001b[0;34m,\u001b[0m \u001b[0my_true\u001b[0m\u001b[0;34m,\u001b[0m \u001b[0my_pred\u001b[0m \u001b[0;34m=\u001b[0m \u001b[0m_check_targets\u001b[0m\u001b[0;34m(\u001b[0m\u001b[0my_true\u001b[0m\u001b[0;34m,\u001b[0m \u001b[0my_pred\u001b[0m\u001b[0;34m)\u001b[0m\u001b[0;34m\u001b[0m\u001b[0;34m\u001b[0m\u001b[0m\n\u001b[0m\u001b[1;32m    269\u001b[0m     \u001b[0;32mif\u001b[0m \u001b[0my_type\u001b[0m \u001b[0;32mnot\u001b[0m \u001b[0;32min\u001b[0m \u001b[0;34m(\u001b[0m\u001b[0;34m\"binary\"\u001b[0m\u001b[0;34m,\u001b[0m \u001b[0;34m\"multiclass\"\u001b[0m\u001b[0;34m)\u001b[0m\u001b[0;34m:\u001b[0m\u001b[0;34m\u001b[0m\u001b[0;34m\u001b[0m\u001b[0m\n\u001b[1;32m    270\u001b[0m         \u001b[0;32mraise\u001b[0m \u001b[0mValueError\u001b[0m\u001b[0;34m(\u001b[0m\u001b[0;34m\"%s is not supported\"\u001b[0m \u001b[0;34m%\u001b[0m \u001b[0my_type\u001b[0m\u001b[0;34m)\u001b[0m\u001b[0;34m\u001b[0m\u001b[0;34m\u001b[0m\u001b[0m\n",
      "\u001b[0;32m~/anaconda3/envs/myenv/lib/python3.7/site-packages/sklearn/metrics/_classification.py\u001b[0m in \u001b[0;36m_check_targets\u001b[0;34m(y_true, y_pred)\u001b[0m\n\u001b[1;32m     78\u001b[0m     \u001b[0my_pred\u001b[0m \u001b[0;34m:\u001b[0m \u001b[0marray\u001b[0m \u001b[0;32mor\u001b[0m \u001b[0mindicator\u001b[0m \u001b[0mmatrix\u001b[0m\u001b[0;34m\u001b[0m\u001b[0;34m\u001b[0m\u001b[0m\n\u001b[1;32m     79\u001b[0m     \"\"\"\n\u001b[0;32m---> 80\u001b[0;31m     \u001b[0mcheck_consistent_length\u001b[0m\u001b[0;34m(\u001b[0m\u001b[0my_true\u001b[0m\u001b[0;34m,\u001b[0m \u001b[0my_pred\u001b[0m\u001b[0;34m)\u001b[0m\u001b[0;34m\u001b[0m\u001b[0;34m\u001b[0m\u001b[0m\n\u001b[0m\u001b[1;32m     81\u001b[0m     \u001b[0mtype_true\u001b[0m \u001b[0;34m=\u001b[0m \u001b[0mtype_of_target\u001b[0m\u001b[0;34m(\u001b[0m\u001b[0my_true\u001b[0m\u001b[0;34m)\u001b[0m\u001b[0;34m\u001b[0m\u001b[0;34m\u001b[0m\u001b[0m\n\u001b[1;32m     82\u001b[0m     \u001b[0mtype_pred\u001b[0m \u001b[0;34m=\u001b[0m \u001b[0mtype_of_target\u001b[0m\u001b[0;34m(\u001b[0m\u001b[0my_pred\u001b[0m\u001b[0;34m)\u001b[0m\u001b[0;34m\u001b[0m\u001b[0;34m\u001b[0m\u001b[0m\n",
      "\u001b[0;32m~/anaconda3/envs/myenv/lib/python3.7/site-packages/sklearn/utils/validation.py\u001b[0m in \u001b[0;36mcheck_consistent_length\u001b[0;34m(*arrays)\u001b[0m\n\u001b[1;32m    210\u001b[0m     \u001b[0;32mif\u001b[0m \u001b[0mlen\u001b[0m\u001b[0;34m(\u001b[0m\u001b[0muniques\u001b[0m\u001b[0;34m)\u001b[0m \u001b[0;34m>\u001b[0m \u001b[0;36m1\u001b[0m\u001b[0;34m:\u001b[0m\u001b[0;34m\u001b[0m\u001b[0;34m\u001b[0m\u001b[0m\n\u001b[1;32m    211\u001b[0m         raise ValueError(\"Found input variables with inconsistent numbers of\"\n\u001b[0;32m--> 212\u001b[0;31m                          \" samples: %r\" % [int(l) for l in lengths])\n\u001b[0m\u001b[1;32m    213\u001b[0m \u001b[0;34m\u001b[0m\u001b[0m\n\u001b[1;32m    214\u001b[0m \u001b[0;34m\u001b[0m\u001b[0m\n",
      "\u001b[0;31mValueError\u001b[0m: Found input variables with inconsistent numbers of samples: [306, 7]"
     ]
    }
   ],
   "source": [
    "\n",
    "from sklearn.metrics import classification_report, confusion_matrix\n",
    "test_set.reset()\n",
    "confusion_matrix(y_pred,test_set)\n"
   ]
  },
  {
   "cell_type": "code",
   "execution_count": null,
   "metadata": {},
   "outputs": [],
   "source": [
    "import tensorflow as tf\n",
    "\n",
    "from keras.models import load_model\n"
   ]
  },
  {
   "cell_type": "code",
   "execution_count": null,
   "metadata": {},
   "outputs": [],
   "source": [
    "\n",
    "model.save('Whu_trained.h5')"
   ]
  },
  {
   "cell_type": "code",
   "execution_count": null,
   "metadata": {},
   "outputs": [],
   "source": []
  }
 ],
 "metadata": {
  "kernelspec": {
   "display_name": "Python 3",
   "language": "python",
   "name": "python3"
  },
  "language_info": {
   "codemirror_mode": {
    "name": "ipython",
    "version": 3
   },
   "file_extension": ".py",
   "mimetype": "text/x-python",
   "name": "python",
   "nbconvert_exporter": "python",
   "pygments_lexer": "ipython3",
   "version": "3.7.5"
  }
 },
 "nbformat": 4,
 "nbformat_minor": 2
}
